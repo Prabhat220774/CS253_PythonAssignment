{
 "cells": [
  {
   "cell_type": "code",
   "execution_count": 1,
   "id": "2d3c2fbe",
   "metadata": {
    "_cell_guid": "b1076dfc-b9ad-4769-8c92-a6c4dae69d19",
    "_uuid": "8f2839f25d086af736a60e9eeb907d3b93b6e0e5",
    "execution": {
     "iopub.execute_input": "2024-04-14T00:24:03.630764Z",
     "iopub.status.busy": "2024-04-14T00:24:03.630343Z",
     "iopub.status.idle": "2024-04-14T00:24:04.478359Z",
     "shell.execute_reply": "2024-04-14T00:24:04.476151Z"
    },
    "papermill": {
     "duration": 0.857463,
     "end_time": "2024-04-14T00:24:04.481686",
     "exception": false,
     "start_time": "2024-04-14T00:24:03.624223",
     "status": "completed"
    },
    "tags": []
   },
   "outputs": [
    {
     "name": "stdout",
     "output_type": "stream",
     "text": [
      "/kaggle/input/who-is-the-real-winner/sample_submission.csv\n",
      "/kaggle/input/who-is-the-real-winner/train.csv\n",
      "/kaggle/input/who-is-the-real-winner/test.csv\n"
     ]
    }
   ],
   "source": [
    "# This Python 3 environment comes with many helpful analytics libraries installed\n",
    "# It is defined by the kaggle/python Docker image: https://github.com/kaggle/docker-python\n",
    "# For example, here's several helpful packages to load\n",
    "\n",
    "import numpy as np # linear algebra\n",
    "import pandas as pd # data processing, CSV file I/O (e.g. pd.read_csv)\n",
    "\n",
    "# Input data files are available in the read-only \"../input/\" directory\n",
    "# For example, running this (by clicking run or pressing Shift+Enter) will list all files under the input directory\n",
    "\n",
    "import os\n",
    "for dirname, _, filenames in os.walk('/kaggle/input'):\n",
    "    for filename in filenames:\n",
    "        print(os.path.join(dirname, filename))\n",
    "\n",
    "# You can write up to 20GB to the current directory (/kaggle/working/) that gets preserved as output when you create a version using \"Save & Run All\" \n",
    "# You can also write temporary files to /kaggle/temp/, but they won't be saved outside of the current session"
   ]
  },
  {
   "cell_type": "code",
   "execution_count": 2,
   "id": "7b059fc1",
   "metadata": {
    "execution": {
     "iopub.execute_input": "2024-04-14T00:24:04.492847Z",
     "iopub.status.busy": "2024-04-14T00:24:04.491959Z",
     "iopub.status.idle": "2024-04-14T00:24:04.532413Z",
     "shell.execute_reply": "2024-04-14T00:24:04.531330Z"
    },
    "papermill": {
     "duration": 0.048373,
     "end_time": "2024-04-14T00:24:04.534835",
     "exception": false,
     "start_time": "2024-04-14T00:24:04.486462",
     "status": "completed"
    },
    "tags": []
   },
   "outputs": [
    {
     "data": {
      "text/html": [
       "<div>\n",
       "<style scoped>\n",
       "    .dataframe tbody tr th:only-of-type {\n",
       "        vertical-align: middle;\n",
       "    }\n",
       "\n",
       "    .dataframe tbody tr th {\n",
       "        vertical-align: top;\n",
       "    }\n",
       "\n",
       "    .dataframe thead th {\n",
       "        text-align: right;\n",
       "    }\n",
       "</style>\n",
       "<table border=\"1\" class=\"dataframe\">\n",
       "  <thead>\n",
       "    <tr style=\"text-align: right;\">\n",
       "      <th></th>\n",
       "      <th>ID</th>\n",
       "      <th>Candidate</th>\n",
       "      <th>Constituency ∇</th>\n",
       "      <th>Party</th>\n",
       "      <th>Criminal Case</th>\n",
       "      <th>Total Assets</th>\n",
       "      <th>Liabilities</th>\n",
       "      <th>state</th>\n",
       "      <th>Education</th>\n",
       "    </tr>\n",
       "  </thead>\n",
       "  <tbody>\n",
       "    <tr>\n",
       "      <th>0</th>\n",
       "      <td>0</td>\n",
       "      <td>M.K. Mohan</td>\n",
       "      <td>ANNA NAGAR</td>\n",
       "      <td>DMK</td>\n",
       "      <td>4</td>\n",
       "      <td>211 Crore+</td>\n",
       "      <td>2 Crore+</td>\n",
       "      <td>TAMIL NADU</td>\n",
       "      <td>8th Pass</td>\n",
       "    </tr>\n",
       "    <tr>\n",
       "      <th>1</th>\n",
       "      <td>1</td>\n",
       "      <td>Khatik Ramesh Prasad</td>\n",
       "      <td>KARERA (SC)</td>\n",
       "      <td>BJP</td>\n",
       "      <td>0</td>\n",
       "      <td>1 Crore+</td>\n",
       "      <td>0</td>\n",
       "      <td>MADHYA PRADESH</td>\n",
       "      <td>12th Pass</td>\n",
       "    </tr>\n",
       "    <tr>\n",
       "      <th>2</th>\n",
       "      <td>2</td>\n",
       "      <td>Dr. Mantar Gowda</td>\n",
       "      <td>MADIKERI</td>\n",
       "      <td>INC</td>\n",
       "      <td>0</td>\n",
       "      <td>7 Crore+</td>\n",
       "      <td>22 Lac+</td>\n",
       "      <td>KARNATAKA</td>\n",
       "      <td>Post Graduate</td>\n",
       "    </tr>\n",
       "    <tr>\n",
       "      <th>3</th>\n",
       "      <td>3</td>\n",
       "      <td>Kundan Kumar</td>\n",
       "      <td>BEGUSARAI</td>\n",
       "      <td>BJP</td>\n",
       "      <td>0</td>\n",
       "      <td>9 Crore+</td>\n",
       "      <td>24 Lac+</td>\n",
       "      <td>BIHAR</td>\n",
       "      <td>Post Graduate</td>\n",
       "    </tr>\n",
       "    <tr>\n",
       "      <th>4</th>\n",
       "      <td>4</td>\n",
       "      <td>Swapan Majumder</td>\n",
       "      <td>BANGAON DAKSHIN (SC)</td>\n",
       "      <td>BJP</td>\n",
       "      <td>2</td>\n",
       "      <td>2 Crore+</td>\n",
       "      <td>61 Lac+</td>\n",
       "      <td>WEST BENGAL</td>\n",
       "      <td>8th Pass</td>\n",
       "    </tr>\n",
       "  </tbody>\n",
       "</table>\n",
       "</div>"
      ],
      "text/plain": [
       "   ID             Candidate        Constituency ∇ Party  Criminal Case  \\\n",
       "0   0            M.K. Mohan            ANNA NAGAR   DMK              4   \n",
       "1   1  Khatik Ramesh Prasad           KARERA (SC)   BJP              0   \n",
       "2   2      Dr. Mantar Gowda              MADIKERI   INC              0   \n",
       "3   3          Kundan Kumar             BEGUSARAI   BJP              0   \n",
       "4   4       Swapan Majumder  BANGAON DAKSHIN (SC)   BJP              2   \n",
       "\n",
       "  Total Assets Liabilities           state      Education  \n",
       "0   211 Crore+    2 Crore+      TAMIL NADU       8th Pass  \n",
       "1     1 Crore+           0  MADHYA PRADESH      12th Pass  \n",
       "2     7 Crore+     22 Lac+       KARNATAKA  Post Graduate  \n",
       "3     9 Crore+     24 Lac+           BIHAR  Post Graduate  \n",
       "4     2 Crore+     61 Lac+     WEST BENGAL       8th Pass  "
      ]
     },
     "execution_count": 2,
     "metadata": {},
     "output_type": "execute_result"
    }
   ],
   "source": [
    "train_data= pd.read_csv('/kaggle/input/who-is-the-real-winner/train.csv')\n",
    "train_data.head()"
   ]
  },
  {
   "cell_type": "code",
   "execution_count": 3,
   "id": "dd8926de",
   "metadata": {
    "execution": {
     "iopub.execute_input": "2024-04-14T00:24:04.545325Z",
     "iopub.status.busy": "2024-04-14T00:24:04.544953Z",
     "iopub.status.idle": "2024-04-14T00:24:04.568377Z",
     "shell.execute_reply": "2024-04-14T00:24:04.567401Z"
    },
    "papermill": {
     "duration": 0.031147,
     "end_time": "2024-04-14T00:24:04.570593",
     "exception": false,
     "start_time": "2024-04-14T00:24:04.539446",
     "status": "completed"
    },
    "tags": []
   },
   "outputs": [
    {
     "data": {
      "text/html": [
       "<div>\n",
       "<style scoped>\n",
       "    .dataframe tbody tr th:only-of-type {\n",
       "        vertical-align: middle;\n",
       "    }\n",
       "\n",
       "    .dataframe tbody tr th {\n",
       "        vertical-align: top;\n",
       "    }\n",
       "\n",
       "    .dataframe thead th {\n",
       "        text-align: right;\n",
       "    }\n",
       "</style>\n",
       "<table border=\"1\" class=\"dataframe\">\n",
       "  <thead>\n",
       "    <tr style=\"text-align: right;\">\n",
       "      <th></th>\n",
       "      <th>ID</th>\n",
       "      <th>Candidate</th>\n",
       "      <th>Constituency ∇</th>\n",
       "      <th>Party</th>\n",
       "      <th>Criminal Case</th>\n",
       "      <th>Total Assets</th>\n",
       "      <th>Liabilities</th>\n",
       "      <th>state</th>\n",
       "    </tr>\n",
       "  </thead>\n",
       "  <tbody>\n",
       "    <tr>\n",
       "      <th>0</th>\n",
       "      <td>0</td>\n",
       "      <td>Geeta Bharat Jain</td>\n",
       "      <td>MEERA BHAYANDAR</td>\n",
       "      <td>IND</td>\n",
       "      <td>2</td>\n",
       "      <td>70 Crore+</td>\n",
       "      <td>11 Crore+</td>\n",
       "      <td>MAHARASHTRA</td>\n",
       "    </tr>\n",
       "    <tr>\n",
       "      <th>1</th>\n",
       "      <td>1</td>\n",
       "      <td>Becharam Manna</td>\n",
       "      <td>SINGUR</td>\n",
       "      <td>AITC</td>\n",
       "      <td>1</td>\n",
       "      <td>2 Crore+</td>\n",
       "      <td>13 Lac+</td>\n",
       "      <td>WEST BENGAL</td>\n",
       "    </tr>\n",
       "    <tr>\n",
       "      <th>2</th>\n",
       "      <td>2</td>\n",
       "      <td>Sunil Vijay Tingre</td>\n",
       "      <td>VADGAON SHERI</td>\n",
       "      <td>NCP</td>\n",
       "      <td>3</td>\n",
       "      <td>49 Crore+</td>\n",
       "      <td>1 Crore+</td>\n",
       "      <td>MAHARASHTRA</td>\n",
       "    </tr>\n",
       "    <tr>\n",
       "      <th>3</th>\n",
       "      <td>3</td>\n",
       "      <td>Asit Mazumder (Tapan)</td>\n",
       "      <td>CHUNCHURA</td>\n",
       "      <td>AITC</td>\n",
       "      <td>1</td>\n",
       "      <td>2 Crore+</td>\n",
       "      <td>0</td>\n",
       "      <td>WEST BENGAL</td>\n",
       "    </tr>\n",
       "    <tr>\n",
       "      <th>4</th>\n",
       "      <td>4</td>\n",
       "      <td>Hriday Narayan Singh Patel</td>\n",
       "      <td>SAGRI</td>\n",
       "      <td>SP</td>\n",
       "      <td>0</td>\n",
       "      <td>16 Crore+</td>\n",
       "      <td>2 Crore+</td>\n",
       "      <td>UTTAR PRADESH</td>\n",
       "    </tr>\n",
       "  </tbody>\n",
       "</table>\n",
       "</div>"
      ],
      "text/plain": [
       "   ID                   Candidate   Constituency ∇ Party  Criminal Case  \\\n",
       "0   0           Geeta Bharat Jain  MEERA BHAYANDAR   IND              2   \n",
       "1   1              Becharam Manna           SINGUR  AITC              1   \n",
       "2   2          Sunil Vijay Tingre    VADGAON SHERI   NCP              3   \n",
       "3   3       Asit Mazumder (Tapan)        CHUNCHURA  AITC              1   \n",
       "4   4  Hriday Narayan Singh Patel            SAGRI    SP              0   \n",
       "\n",
       "  Total Assets Liabilities          state  \n",
       "0    70 Crore+   11 Crore+    MAHARASHTRA  \n",
       "1     2 Crore+     13 Lac+    WEST BENGAL  \n",
       "2    49 Crore+    1 Crore+    MAHARASHTRA  \n",
       "3     2 Crore+           0    WEST BENGAL  \n",
       "4    16 Crore+    2 Crore+  UTTAR PRADESH  "
      ]
     },
     "execution_count": 3,
     "metadata": {},
     "output_type": "execute_result"
    }
   ],
   "source": [
    "test_data= pd.read_csv('/kaggle/input/who-is-the-real-winner/test.csv')\n",
    "test_data.head()"
   ]
  },
  {
   "cell_type": "code",
   "execution_count": 4,
   "id": "10addbe1",
   "metadata": {
    "execution": {
     "iopub.execute_input": "2024-04-14T00:24:04.581673Z",
     "iopub.status.busy": "2024-04-14T00:24:04.581309Z",
     "iopub.status.idle": "2024-04-14T00:24:04.598815Z",
     "shell.execute_reply": "2024-04-14T00:24:04.598094Z"
    },
    "papermill": {
     "duration": 0.025379,
     "end_time": "2024-04-14T00:24:04.600839",
     "exception": false,
     "start_time": "2024-04-14T00:24:04.575460",
     "status": "completed"
    },
    "tags": []
   },
   "outputs": [
    {
     "data": {
      "text/html": [
       "<div>\n",
       "<style scoped>\n",
       "    .dataframe tbody tr th:only-of-type {\n",
       "        vertical-align: middle;\n",
       "    }\n",
       "\n",
       "    .dataframe tbody tr th {\n",
       "        vertical-align: top;\n",
       "    }\n",
       "\n",
       "    .dataframe thead th {\n",
       "        text-align: right;\n",
       "    }\n",
       "</style>\n",
       "<table border=\"1\" class=\"dataframe\">\n",
       "  <thead>\n",
       "    <tr style=\"text-align: right;\">\n",
       "      <th></th>\n",
       "      <th>Party</th>\n",
       "      <th>Criminal Case</th>\n",
       "      <th>state</th>\n",
       "    </tr>\n",
       "  </thead>\n",
       "  <tbody>\n",
       "    <tr>\n",
       "      <th>0</th>\n",
       "      <td>DMK</td>\n",
       "      <td>4</td>\n",
       "      <td>TAMIL NADU</td>\n",
       "    </tr>\n",
       "    <tr>\n",
       "      <th>1</th>\n",
       "      <td>BJP</td>\n",
       "      <td>0</td>\n",
       "      <td>MADHYA PRADESH</td>\n",
       "    </tr>\n",
       "    <tr>\n",
       "      <th>2</th>\n",
       "      <td>INC</td>\n",
       "      <td>0</td>\n",
       "      <td>KARNATAKA</td>\n",
       "    </tr>\n",
       "    <tr>\n",
       "      <th>3</th>\n",
       "      <td>BJP</td>\n",
       "      <td>0</td>\n",
       "      <td>BIHAR</td>\n",
       "    </tr>\n",
       "    <tr>\n",
       "      <th>4</th>\n",
       "      <td>BJP</td>\n",
       "      <td>2</td>\n",
       "      <td>WEST BENGAL</td>\n",
       "    </tr>\n",
       "  </tbody>\n",
       "</table>\n",
       "</div>"
      ],
      "text/plain": [
       "  Party  Criminal Case           state\n",
       "0   DMK              4      TAMIL NADU\n",
       "1   BJP              0  MADHYA PRADESH\n",
       "2   INC              0       KARNATAKA\n",
       "3   BJP              0           BIHAR\n",
       "4   BJP              2     WEST BENGAL"
      ]
     },
     "execution_count": 4,
     "metadata": {},
     "output_type": "execute_result"
    }
   ],
   "source": [
    "y=train_data.Education\n",
    "\n",
    "parameters=[\"Party\",\"Criminal Case\",\"state\"]\n",
    "\n",
    "X=train_data[parameters]\n",
    "\n",
    "X.head()"
   ]
  },
  {
   "cell_type": "code",
   "execution_count": 5,
   "id": "bdcf0dd9",
   "metadata": {
    "execution": {
     "iopub.execute_input": "2024-04-14T00:24:04.612488Z",
     "iopub.status.busy": "2024-04-14T00:24:04.612160Z",
     "iopub.status.idle": "2024-04-14T00:24:05.771203Z",
     "shell.execute_reply": "2024-04-14T00:24:05.770056Z"
    },
    "papermill": {
     "duration": 1.169057,
     "end_time": "2024-04-14T00:24:05.775164",
     "exception": false,
     "start_time": "2024-04-14T00:24:04.606107",
     "status": "completed"
    },
    "tags": []
   },
   "outputs": [
    {
     "name": "stderr",
     "output_type": "stream",
     "text": [
      "/tmp/ipykernel_19/874911797.py:6: SettingWithCopyWarning: \n",
      "A value is trying to be set on a copy of a slice from a DataFrame.\n",
      "Try using .loc[row_indexer,col_indexer] = value instead\n",
      "\n",
      "See the caveats in the documentation: https://pandas.pydata.org/pandas-docs/stable/user_guide/indexing.html#returning-a-view-versus-a-copy\n",
      "  X[column] = label_encoder.fit_transform(X[column])\n",
      "/tmp/ipykernel_19/874911797.py:6: SettingWithCopyWarning: \n",
      "A value is trying to be set on a copy of a slice from a DataFrame.\n",
      "Try using .loc[row_indexer,col_indexer] = value instead\n",
      "\n",
      "See the caveats in the documentation: https://pandas.pydata.org/pandas-docs/stable/user_guide/indexing.html#returning-a-view-versus-a-copy\n",
      "  X[column] = label_encoder.fit_transform(X[column])\n",
      "/tmp/ipykernel_19/874911797.py:14: SettingWithCopyWarning: \n",
      "A value is trying to be set on a copy of a slice from a DataFrame.\n",
      "Try using .loc[row_indexer,col_indexer] = value instead\n",
      "\n",
      "See the caveats in the documentation: https://pandas.pydata.org/pandas-docs/stable/user_guide/indexing.html#returning-a-view-versus-a-copy\n",
      "  X_test[column] = label_encoder1.fit_transform(X_test[column])\n",
      "/tmp/ipykernel_19/874911797.py:14: SettingWithCopyWarning: \n",
      "A value is trying to be set on a copy of a slice from a DataFrame.\n",
      "Try using .loc[row_indexer,col_indexer] = value instead\n",
      "\n",
      "See the caveats in the documentation: https://pandas.pydata.org/pandas-docs/stable/user_guide/indexing.html#returning-a-view-versus-a-copy\n",
      "  X_test[column] = label_encoder1.fit_transform(X_test[column])\n"
     ]
    },
    {
     "data": {
      "text/html": [
       "<div>\n",
       "<style scoped>\n",
       "    .dataframe tbody tr th:only-of-type {\n",
       "        vertical-align: middle;\n",
       "    }\n",
       "\n",
       "    .dataframe tbody tr th {\n",
       "        vertical-align: top;\n",
       "    }\n",
       "\n",
       "    .dataframe thead th {\n",
       "        text-align: right;\n",
       "    }\n",
       "</style>\n",
       "<table border=\"1\" class=\"dataframe\">\n",
       "  <thead>\n",
       "    <tr style=\"text-align: right;\">\n",
       "      <th></th>\n",
       "      <th>Party</th>\n",
       "      <th>Criminal Case</th>\n",
       "      <th>state</th>\n",
       "    </tr>\n",
       "  </thead>\n",
       "  <tbody>\n",
       "    <tr>\n",
       "      <th>0</th>\n",
       "      <td>9</td>\n",
       "      <td>2</td>\n",
       "      <td>14</td>\n",
       "    </tr>\n",
       "    <tr>\n",
       "      <th>1</th>\n",
       "      <td>2</td>\n",
       "      <td>1</td>\n",
       "      <td>27</td>\n",
       "    </tr>\n",
       "    <tr>\n",
       "      <th>2</th>\n",
       "      <td>13</td>\n",
       "      <td>3</td>\n",
       "      <td>14</td>\n",
       "    </tr>\n",
       "    <tr>\n",
       "      <th>3</th>\n",
       "      <td>2</td>\n",
       "      <td>1</td>\n",
       "      <td>27</td>\n",
       "    </tr>\n",
       "    <tr>\n",
       "      <th>4</th>\n",
       "      <td>18</td>\n",
       "      <td>0</td>\n",
       "      <td>25</td>\n",
       "    </tr>\n",
       "  </tbody>\n",
       "</table>\n",
       "</div>"
      ],
      "text/plain": [
       "   Party  Criminal Case  state\n",
       "0      9              2     14\n",
       "1      2              1     27\n",
       "2     13              3     14\n",
       "3      2              1     27\n",
       "4     18              0     25"
      ]
     },
     "execution_count": 5,
     "metadata": {},
     "output_type": "execute_result"
    }
   ],
   "source": [
    "from sklearn.preprocessing import LabelEncoder\n",
    "label_encoder = LabelEncoder()\n",
    "y = label_encoder.fit_transform(y)\n",
    "for column in X.columns:\n",
    "    if X[column].dtype == 'object':\n",
    "        X[column] = label_encoder.fit_transform(X[column])\n",
    "#X.head()\n",
    "\n",
    "X_test=test_data[parameters]\n",
    "label_encoder1 = LabelEncoder()\n",
    "y_test = label_encoder1.fit_transform(y)\n",
    "for column in X_test.columns:\n",
    "    if X_test[column].dtype == 'object':\n",
    "        X_test[column] = label_encoder1.fit_transform(X_test[column])\n",
    "X_test.head()"
   ]
  },
  {
   "cell_type": "code",
   "execution_count": 6,
   "id": "cbcff27b",
   "metadata": {
    "execution": {
     "iopub.execute_input": "2024-04-14T00:24:05.787869Z",
     "iopub.status.busy": "2024-04-14T00:24:05.787505Z",
     "iopub.status.idle": "2024-04-14T00:24:10.537845Z",
     "shell.execute_reply": "2024-04-14T00:24:10.536411Z"
    },
    "papermill": {
     "duration": 4.760754,
     "end_time": "2024-04-14T00:24:10.541727",
     "exception": false,
     "start_time": "2024-04-14T00:24:05.780973",
     "status": "completed"
    },
    "tags": []
   },
   "outputs": [
    {
     "name": "stdout",
     "output_type": "stream",
     "text": [
      "3 2.5475728155339805\n",
      "Pridictions\n",
      "1374\n"
     ]
    }
   ],
   "source": [
    "\n",
    "from sklearn.ensemble import RandomForestRegressor\n",
    "from sklearn.ensemble import RandomForestClassifier\n",
    "from sklearn.tree import DecisionTreeRegressor\n",
    "from sklearn.metrics import mean_absolute_error\n",
    "from sklearn.model_selection import train_test_split\n",
    "import math \n",
    "\n",
    "train_X, val_X, train_y, val_y = train_test_split(X, y, random_state=5)\n",
    "\n",
    "def get_mae(max_leaf_nodes, train_X, val_X, train_y, val_y):\n",
    "    model = RandomForestClassifier(max_leaf_nodes=max_leaf_nodes, random_state=5)\n",
    "    model.fit(train_X, train_y)\n",
    "    preds_val = model.predict(val_X)\n",
    "    mae = mean_absolute_error(val_y, preds_val)\n",
    "    return(mae)\n",
    "\n",
    "candidate_max_leaf_nodes = [3,4,5,6,7,8,9,10,11,12,13,14,15,16,17]\n",
    "\n",
    "minimum= 1e9\n",
    "ans=-1\n",
    "for max_leaf_node in candidate_max_leaf_nodes:\n",
    "    my_mae=get_mae(max_leaf_node, train_X, val_X, train_y, val_y)\n",
    "    if(my_mae<minimum):\n",
    "        minimum=my_mae\n",
    "        ans=max_leaf_node\n",
    "\n",
    "\n",
    "print(ans, minimum)\n",
    "\n",
    "model=RandomForestClassifier(random_state=52)\n",
    "model.fit(X,y)\n",
    "\n",
    "print(\"Pridictions\")\n",
    "list=model.predict(X_test)\n",
    "list1=[]\n",
    "for i in list:\n",
    "    list1.append(math.ceil(i))\n",
    "print(len(list1))"
   ]
  },
  {
   "cell_type": "code",
   "execution_count": 7,
   "id": "a63e36c3",
   "metadata": {
    "execution": {
     "iopub.execute_input": "2024-04-14T00:24:10.557800Z",
     "iopub.status.busy": "2024-04-14T00:24:10.557421Z",
     "iopub.status.idle": "2024-04-14T00:24:10.572374Z",
     "shell.execute_reply": "2024-04-14T00:24:10.571382Z"
    },
    "papermill": {
     "duration": 0.024089,
     "end_time": "2024-04-14T00:24:10.574590",
     "exception": false,
     "start_time": "2024-04-14T00:24:10.550501",
     "status": "completed"
    },
    "tags": []
   },
   "outputs": [],
   "source": [
    "submission = pd.DataFrame(columns=['ID',\"Education\"])\n",
    "label_encoder = LabelEncoder()\n",
    "y = label_encoder.fit_transform(train_data.Education)\n",
    "submission['Education'] = label_encoder.inverse_transform(list1)\n",
    "submission['ID'] = test_data['ID']\n",
    "submission.to_csv('/kaggle/working/submission.csv',index=False)"
   ]
  },
  {
   "cell_type": "code",
   "execution_count": 8,
   "id": "29d2c3c8",
   "metadata": {
    "execution": {
     "iopub.execute_input": "2024-04-14T00:24:10.587606Z",
     "iopub.status.busy": "2024-04-14T00:24:10.586940Z",
     "iopub.status.idle": "2024-04-14T00:24:11.126613Z",
     "shell.execute_reply": "2024-04-14T00:24:11.125500Z"
    },
    "papermill": {
     "duration": 0.549045,
     "end_time": "2024-04-14T00:24:11.129284",
     "exception": false,
     "start_time": "2024-04-14T00:24:10.580239",
     "status": "completed"
    },
    "tags": []
   },
   "outputs": [
    {
     "data": {
      "image/png": "[encoded data removed]",
      "text/plain": [
       "<Figure size 1000x600 with 1 Axes>"
      ]
     },
     "metadata": {},
     "output_type": "display_data"
    }
   ],
   "source": [
    "import pandas as pd\n",
    "import matplotlib.pyplot as plt\n",
    "\n",
    "\n",
    "filtered_data = train_data[train_data['Criminal Case'] >= 3]\n",
    "\n",
    "\n",
    "party_distribution = filtered_data['Party'].value_counts(normalize=True) * 100\n",
    "\n",
    "\n",
    "custom_colors = ['#1f77b4', '#ff7f0e', '#2ca02c', '#d62728', '#9467bd',\n",
    "                 '#8c564b', '#e377c2', '#7f7f7f', '#bcbd22', '#17becf']\n",
    "\n",
    "\n",
    "plt.figure(figsize=(10, 6))\n",
    "party_distribution.plot(kind='bar', color=custom_colors)\n",
    "plt.title('Percentage Distribution of Parties with Candidates Having Criminal Records >= 3')\n",
    "plt.xlabel('Party')\n",
    "plt.ylabel('Percentage')\n",
    "plt.xticks(rotation=45)\n",
    "plt.tight_layout()\n",
    "plt.show()\n"
   ]
  },
  {
   "cell_type": "code",
   "execution_count": 9,
   "id": "770b22a2",
   "metadata": {
    "execution": {
     "iopub.execute_input": "2024-04-14T00:24:11.144251Z",
     "iopub.status.busy": "2024-04-14T00:24:11.143065Z",
     "iopub.status.idle": "2024-04-14T00:24:11.456701Z",
     "shell.execute_reply": "2024-04-14T00:24:11.455808Z"
    },
    "papermill": {
     "duration": 0.323319,
     "end_time": "2024-04-14T00:24:11.458885",
     "exception": false,
     "start_time": "2024-04-14T00:24:11.135566",
     "status": "completed"
    },
    "tags": []
   },
   "outputs": [
    {
     "data": {
      "image/png": "[encoded data removed]",
      "text/plain": [
       "<Figure size 1000x600 with 1 Axes>"
      ]
     },
     "metadata": {},
     "output_type": "display_data"
    }
   ],
   "source": [
    "import pandas as pd\n",
    "import matplotlib.pyplot as plt\n",
    "\n",
    "\n",
    "def convert_assets(asset_str):\n",
    "    if 'Crore' in asset_str:\n",
    "        asset_value = float(asset_str.split()[0])\n",
    "        return asset_value * 100  \n",
    "    elif 'Lac' in asset_str:\n",
    "        return float(asset_str.split()[0])  \n",
    "    else:\n",
    "        return 0  \n",
    "\n",
    "\n",
    "train_data['Total Assets'] = train_data['Total Assets'].apply(convert_assets)\n",
    "\n",
    "\n",
    "wealthy_data = train_data[train_data['Total Assets'] > 10000]  \n",
    "\n",
    "\n",
    "party_distribution = wealthy_data['Party'].value_counts(normalize=True) * 100\n",
    "\n",
    "\n",
    "plt.figure(figsize=(10, 6))\n",
    "party_distribution.plot(kind='pie', autopct='%1.1f%%', startangle=140)\n",
    "plt.title('The percentage distribution of parties with the most wealthy candidates(Assets > 100 Crores)')\n",
    "plt.ylabel('')  \n",
    "plt.tight_layout()\n",
    "plt.show()\n"
   ]
  }
 ],
 "metadata": {
  "kaggle": {
   "accelerator": "none",
   "dataSources": [
    {
     "databundleVersionId": 8059709,
     "sourceId": 72632,
     "sourceType": "competition"
    }
   ],
   "dockerImageVersionId": 30684,
   "isGpuEnabled": false,
   "isInternetEnabled": true,
   "language": "python",
   "sourceType": "notebook"
  },
  "kernelspec": {
   "display_name": "Python 3",
   "language": "python",
   "name": "python3"
  },
  "language_info": {
   "codemirror_mode": {
    "name": "ipython",
    "version": 3
   },
   "file_extension": ".py",
   "mimetype": "text/x-python",
   "name": "python",
   "nbconvert_exporter": "python",
   "pygments_lexer": "ipython3",
   "version": "3.10.13"
  },
  "papermill": {
   "default_parameters": {},
   "duration": 11.318524,
   "end_time": "2024-04-14T00:24:12.088810",
   "environment_variables": {},
   "exception": null,
   "input_path": "__notebook__.ipynb",
   "output_path": "__notebook__.ipynb",
   "parameters": {},
   "start_time": "2024-04-14T00:24:00.770286",
   "version": "2.5.0"
  }
 },
 "nbformat": 4,
 "nbformat_minor": 5
}
